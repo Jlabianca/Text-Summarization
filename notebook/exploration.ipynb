{
 "cells": [
  {
   "cell_type": "code",
   "execution_count": null,
   "metadata": {},
   "outputs": [],
   "source": [
    "# Import Necessary Libraries\n",
    "# These are the libraries we need to work with data and the model\n",
    "import pandas as pd\n",
    "import numpy as np\n",
    "import matplotlib.pyplot as plt\n",
    "from datasets import load_dataset\n",
    "from transformers import T5Tokenizer, T5ForConditionalGeneration\n",
    "\n",
    "# To ignore warnings for a cleaner output\n",
    "import warnings\n",
    "warnings.filterwarnings('ignore')"
   ]
  },
  {
   "cell_type": "code",
   "execution_count": null,
   "metadata": {},
   "outputs": [],
   "source": [
    "# Load the Dataset\n",
    "# Load the CNN/Daily Mail dataset from Hugging Face\n",
    "dataset = load_dataset(\"cnn_dailymail\", \"3.0.0\")\n",
    "\n",
    "# Print the dataset structure to see what it looks like\n",
    "print(dataset)"
   ]
  },
  {
   "cell_type": "code",
   "execution_count": null,
   "metadata": {},
   "outputs": [],
   "source": [
    "# Explore the Dataset\n",
    "# Print a few examples from the dataset to understand its structure\n",
    "print(dataset['train'][0])\n",
    "print(dataset['validation'][0])\n",
    "print(dataset['test'][0])\n",
    "\n",
    "# Convert the dataset to pandas DataFrames for easier manipulation\n",
    "df_train = pd.DataFrame(dataset['train'])\n",
    "df_valid = pd.DataFrame(dataset['validation'])\n",
    "df_test = pd.DataFrame(dataset['test'])\n",
    "\n",
    "# Print basic statistics about the data\n",
    "print(df_train.describe())\n",
    "print(df_valid.describe())\n",
    "print(df_test.describe())"
   ]
  },
  {
   "cell_type": "code",
   "execution_count": null,
   "metadata": {},
   "outputs": [],
   "source": [
    "# Visualize Data\n",
    "# Plot the distribution of article lengths\n",
    "# This helps us understand how long the articles are\n",
    "article_lengths = df_train['article'].apply(lambda x: len(x.split()))\n",
    "plt.hist(article_lengths, bins=50)\n",
    "plt.title('Distribution of Article Lengths')\n",
    "plt.xlabel('Number of Words')\n",
    "plt.ylabel('Frequency')\n",
    "plt.show()\n",
    "\n",
    "# Plot the distribution of summary lengths\n",
    "# This helps us understand how long the summaries are\n",
    "summary_lengths = df_train['highlights'].apply(lambda x: len(x.split()))\n",
    "plt.hist(summary_lengths, bins=50)\n",
    "plt.title('Distribution of Summary Lengths')\n",
    "plt.xlabel('Number of Words')\n",
    "plt.ylabel('Frequency')\n",
    "plt.show()"
   ]
  },
  {
   "cell_type": "code",
   "execution_count": null,
   "metadata": {},
   "outputs": [],
   "source": [
    "from transformers import T5Tokenizer\n",
    "\n",
    "# Initialize tokenizer\n",
    "tokenizer = T5Tokenizer.from_pretrained('t5-small')\n",
    "\n",
    "# Tokenize a sample article\n",
    "sample_article = df_train['article'][0]\n",
    "tokenized_article = tokenizer.encode(sample_article, max_length=512, truncation=True)\n",
    "print(tokenized_article)\n",
    "\n",
    "# Decode the tokenized article\n",
    "decoded_article = tokenizer.decode(tokenized_article)\n",
    "print(decoded_article)\n"
   ]
  },
  {
   "cell_type": "code",
   "execution_count": null,
   "metadata": {},
   "outputs": [],
   "source": [
    "# Initialize Tokenizer and Model\n",
    "# Initialize the T5 tokenizer and model\n",
    "tokenizer = T5Tokenizer.from_pretrained('t5-small')\n",
    "model = T5ForConditionalGeneration.from_pretrained('t5-small')"
   ]
  },
  {
   "cell_type": "code",
   "execution_count": null,
   "metadata": {},
   "outputs": [],
   "source": [
    "# Tokenize a Sample Article\n",
    "# Tokenize a sample article to see what the tokenized output looks like\n",
    "sample_article = df_train['article'][0]\n",
    "tokenized_article = tokenizer.encode(sample_article, max_length=512, truncation=True)\n",
    "print(tokenized_article)"
   ]
  },
  {
   "cell_type": "code",
   "execution_count": null,
   "metadata": {},
   "outputs": [],
   "source": [
    "# Decode the Tokenized Article\n",
    "# Decode the tokenized article back to text to verify the tokenization\n",
    "decoded_article = tokenizer.decode(tokenized_article)\n",
    "print(decoded_article)"
   ]
  },
  {
   "cell_type": "code",
   "execution_count": null,
   "metadata": {},
   "outputs": [],
   "source": [
    "# Input Your Own Article\n",
    "# Input your own article for summarization\n",
    "custom_article = \"\"\"\n",
    "Your long article text goes here. Make sure to keep it within a reasonable length\n",
    "to avoid issues with the model's maximum input length.\n",
    "\"\"\"\n",
    "\n",
    "# Tokenize the custom article\n",
    "inputs = tokenizer(custom_article, return_tensors=\"pt\", max_length=512, truncation=True)\n",
    "\n",
    "# Generate summary\n",
    "summary_ids = model.generate(inputs.input_ids, max_length=150, min_length=40, length_penalty=2.0, num_beams=4, early_stopping=True)\n",
    "summary = tokenizer.decode(summary_ids[0], skip_special_tokens=True)\n",
    "\n",
    "# Print the summary\n",
    "print(\"Summary:\")\n",
    "print(summary)\n"
   ]
  }
 ],
 "metadata": {
  "kernelspec": {
   "display_name": "Python 3.10.7 64-bit",
   "language": "python",
   "name": "python3"
  },
  "language_info": {
   "codemirror_mode": {
    "name": "ipython",
    "version": 3
   },
   "file_extension": ".py",
   "mimetype": "text/x-python",
   "name": "python",
   "nbconvert_exporter": "python",
   "pygments_lexer": "ipython3",
   "version": "3.10.7"
  },
  "orig_nbformat": 4,
  "vscode": {
   "interpreter": {
    "hash": "aee8b7b246df8f9039afb4144a1f6fd8d2ca17a180786b69acc140d282b71a49"
   }
  }
 },
 "nbformat": 4,
 "nbformat_minor": 2
}
