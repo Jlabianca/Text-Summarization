{
 "cells": [
  {
   "cell_type": "code",
   "execution_count": null,
   "metadata": {},
   "outputs": [],
   "source": [
    "# Import Necessary Libraries\n",
    "# These are the libraries we need to work with data and the model\n",
    "import pandas as pd\n",
    "import numpy as np\n",
    "from wordcloud import WordCloud\n",
    "import matplotlib.pyplot as plt\n",
    "from datasets import load_dataset\n",
    "from transformers import T5Tokenizer, T5ForConditionalGeneration\n",
    "\n",
    "# To ignore warnings for a cleaner output\n",
    "import warnings\n",
    "warnings.filterwarnings('ignore')"
   ]
  },
  {
   "cell_type": "code",
   "execution_count": null,
   "metadata": {},
   "outputs": [],
   "source": [
    "# Load the Dataset\n",
    "# Load the CNN/Daily Mail dataset from Hugging Face\n",
    "dataset = load_dataset(\"cnn_dailymail\", \"3.0.0\")\n",
    "\n",
    "# Print the dataset structure to see what it looks like\n",
    "print(dataset)"
   ]
  },
  {
   "cell_type": "code",
   "execution_count": null,
   "metadata": {},
   "outputs": [],
   "source": [
    "# Explore the Dataset\n",
    "# Print a few examples from the dataset to understand its structure\n",
    "print(dataset['train'][0])\n",
    "print(dataset['validation'][0])\n",
    "print(dataset['test'][0])\n",
    "\n",
    "# Convert the dataset to pandas DataFrames for easier manipulation\n",
    "df_train = pd.DataFrame(dataset['train'])\n",
    "df_valid = pd.DataFrame(dataset['validation'])\n",
    "df_test = pd.DataFrame(dataset['test'])\n",
    "\n",
    "# Print basic statistics about the data\n",
    "print(df_train.describe())\n",
    "print(df_valid.describe())\n",
    "print(df_test.describe())"
   ]
  },
  {
   "cell_type": "code",
   "execution_count": null,
   "metadata": {},
   "outputs": [],
   "source": [
    "# Visualize Data\n",
    "# Plot the distribution of article lengths\n",
    "# This helps us understand how long the articles are\n",
    "article_lengths = df_train['article'].apply(lambda x: len(x.split()))\n",
    "plt.hist(article_lengths, bins=50)\n",
    "plt.title('Distribution of Article Lengths')\n",
    "plt.xlabel('Number of Words')\n",
    "plt.ylabel('Frequency')\n",
    "plt.show()\n",
    "\n",
    "# Plot the distribution of summary lengths\n",
    "# This helps us understand how long the summaries are\n",
    "summary_lengths = df_train['highlights'].apply(lambda x: len(x.split()))\n",
    "plt.hist(summary_lengths, bins=50)\n",
    "plt.title('Distribution of Summary Lengths')\n",
    "plt.xlabel('Number of Words')\n",
    "plt.ylabel('Frequency')\n",
    "plt.show()"
   ]
  },
  {
   "cell_type": "code",
   "execution_count": null,
   "metadata": {},
   "outputs": [],
   "source": [
    "from transformers import T5Tokenizer\n",
    "\n",
    "# Initialize tokenizer\n",
    "tokenizer = T5Tokenizer.from_pretrained('t5-small')\n",
    "\n",
    "# Tokenize a sample article\n",
    "sample_article = df_train['article'][0]\n",
    "tokenized_article = tokenizer.encode(sample_article, max_length=512, truncation=True)\n",
    "print(tokenized_article)\n",
    "\n",
    "# Decode the tokenized article\n",
    "decoded_article = tokenizer.decode(tokenized_article)\n",
    "print(decoded_article)\n"
   ]
  },
  {
   "cell_type": "code",
   "execution_count": null,
   "metadata": {},
   "outputs": [],
   "source": [
    "# Initialize Tokenizer and Model\n",
    "# Initialize the T5 tokenizer and model\n",
    "tokenizer = T5Tokenizer.from_pretrained('t5-small')\n",
    "model = T5ForConditionalGeneration.from_pretrained('t5-small')"
   ]
  },
  {
   "cell_type": "code",
   "execution_count": null,
   "metadata": {},
   "outputs": [],
   "source": [
    "# Tokenize a Sample Article\n",
    "# Tokenize a sample article to see what the tokenized output looks like\n",
    "sample_article = df_train['article'][0]\n",
    "tokenized_article = tokenizer.encode(sample_article, max_length=512, truncation=True)\n",
    "print(tokenized_article)"
   ]
  },
  {
   "cell_type": "code",
   "execution_count": null,
   "metadata": {},
   "outputs": [],
   "source": [
    "# Decode the Tokenized Article\n",
    "# Decode the tokenized article back to text to verify the tokenization\n",
    "decoded_article = tokenizer.decode(tokenized_article)\n",
    "print(decoded_article)"
   ]
  },
  {
   "cell_type": "code",
   "execution_count": null,
   "metadata": {},
   "outputs": [],
   "source": [
    "# Input Your Own Article\n",
    "# Input your own article for summarization\n",
    "custom_article = \"\"\"\n",
    "The Transformative Impact of AI on the World and Its Dual Effect on the Job Market\n",
    "Artificial Intelligence (AI) is undeniably reshaping the world as we know it, permeating various sectors and influencing our daily lives. From healthcare and finance to transportation and education, AI's capabilities are driving significant advancements and efficiencies. However, this technological revolution brings a complex and nuanced impact on the job market, posing both opportunities and challenges.\n",
    "\n",
    "AI's Global Influence\n",
    "AI technologies, particularly machine learning and deep learning, have enabled unprecedented progress across multiple domains:\n",
    "\n",
    "Healthcare: AI is revolutionizing healthcare with applications in diagnostics, personalized medicine, and predictive analytics. AI-powered tools can analyze vast amounts of medical data, identifying patterns and predicting patient outcomes more accurately than traditional methods.\n",
    "\n",
    "Finance: In finance, AI algorithms are used for fraud detection, risk assessment, and automated trading. These systems can process and analyze large datasets in real time, making financial operations more secure and efficient.\n",
    "\n",
    "Transportation: AI is the backbone of autonomous vehicles, improving traffic management, and optimizing logistics. Predictive maintenance and smart routing algorithms are enhancing the efficiency and safety of transportation networks.\n",
    "\n",
    "Education: AI-driven educational tools provide personalized learning experiences, adaptive testing, and virtual tutors. These innovations help cater to individual learning paces and styles, improving educational outcomes.\n",
    "\n",
    "The Dual Impact on the Job Market\n",
    "The introduction and integration of AI into various industries bring about a significant transformation in the job market. This impact can be categorized into two broad themes: job displacement and job creation.\n",
    "\n",
    "Job Displacement\n",
    "AI's ability to automate repetitive and routine tasks poses a threat to certain job categories. Roles that involve data entry, basic analysis, and manual labor are particularly vulnerable. For instance:\n",
    "\n",
    "Manufacturing: AI-powered robots and automation systems can perform repetitive tasks more efficiently, reducing the need for human labor on assembly lines.\n",
    "Customer Service: Chatbots and virtual assistants are increasingly handling customer inquiries and support, which may reduce the demand for human customer service representatives.\n",
    "Retail: Automated checkout systems and inventory management tools are replacing some traditional retail jobs.\n",
    "Job Creation and Transformation\n",
    "Conversely, AI also creates new job opportunities and transforms existing roles. The demand for AI specialists, data scientists, and cybersecurity experts is on the rise. Additionally, AI can augment human capabilities, leading to the creation of hybrid roles that combine human skills with AI-enhanced tools. Examples include:\n",
    "\n",
    "AI Development and Maintenance: Jobs related to the development, deployment, and maintenance of AI systems are proliferating. These roles require expertise in programming, data analysis, and machine learning.\n",
    "Healthcare Professionals: AI tools can assist doctors and nurses in diagnosis and treatment planning, allowing healthcare professionals to focus on more complex and human-centric aspects of patient care.\n",
    "Creative Industries: AI can assist in content creation, music composition, and art, enabling artists and designers to explore new creative horizons while AI handles routine aspects of the creative process.\n",
    "Balancing the Benefits and Challenges\n",
    "To maximize the benefits of AI while mitigating its negative impacts on the job market, several strategies can be adopted:\n",
    "\n",
    "Reskilling and Upskilling: Governments and organizations should invest in reskilling and upskilling programs to equip workers with the necessary skills to thrive in an AI-driven economy. This includes training in AI technologies, data analysis, and other emerging fields.\n",
    "\n",
    "Regulatory Frameworks: Implementing policies and regulations that ensure the ethical use of AI is crucial. This includes addressing issues related to data privacy, algorithmic bias, and the impact of automation on employment.\n",
    "\n",
    "Human-AI Collaboration: Encouraging a collaborative approach where humans and AI work together can enhance productivity and innovation. Emphasizing the complementary strengths of humans and machines can lead to more effective and satisfying work environments.\n",
    "\n",
    "Social Safety Nets: Strengthening social safety nets, such as unemployment benefits and job transition programs, can support workers who are displaced by AI-driven automation, helping them transition to new roles or industries.\n",
    "\n",
    "Conclusion\n",
    "AI's transformative impact on the world is undeniable, bringing about both opportunities and challenges. While AI has the potential to displace certain jobs, it also creates new roles and transforms existing ones. By adopting a proactive and balanced approach, society can harness the power of AI to drive progress while ensuring that the benefits are broadly shared. Investing in education, reskilling, and ethical AI practices will be key to navigating the future of work in an AI-driven world.\n",
    "\"\"\"\n",
    "\n",
    "# Tokenize the custom article\n",
    "inputs = tokenizer(custom_article, return_tensors=\"pt\", max_length=512, truncation=True)\n",
    "\n",
    "# Generate summary\n",
    "summary_ids = model.generate(inputs.input_ids, max_length=150, min_length=40, length_penalty=2.0, num_beams=4, early_stopping=True)\n",
    "summary = tokenizer.decode(summary_ids[0], skip_special_tokens=True)\n",
    "\n",
    "# Print the summary\n",
    "print(\"Summary:\")\n",
    "print(summary)\n"
   ]
  },
  {
   "cell_type": "code",
   "execution_count": null,
   "metadata": {},
   "outputs": [],
   "source": [
    "# Visualize Custom Article Data\n",
    "# Plot the length of the custom article\n",
    "custom_article_length = len(custom_article.split())\n",
    "plt.bar(['Custom Article'], [custom_article_length])\n",
    "plt.title('Length of Custom Article')\n",
    "plt.ylabel('Number of Words')\n",
    "plt.show()\n",
    "\n",
    "# Generate a word cloud for the custom article\n",
    "wordcloud = WordCloud(width=800, height=400, background_color='white').generate(custom_article)\n",
    "\n",
    "# Display the word cloud\n",
    "plt.figure(figsize=(10, 5))\n",
    "plt.imshow(wordcloud, interpolation='bilinear')\n",
    "plt.axis('off')\n",
    "plt.title('Word Cloud of Custom Article')\n",
    "plt.show()"
   ]
  }
 ],
 "metadata": {
  "kernelspec": {
   "display_name": "Python 3.10.7 64-bit",
   "language": "python",
   "name": "python3"
  },
  "language_info": {
   "codemirror_mode": {
    "name": "ipython",
    "version": 3
   },
   "file_extension": ".py",
   "mimetype": "text/x-python",
   "name": "python",
   "nbconvert_exporter": "python",
   "pygments_lexer": "ipython3",
   "version": "3.10.7"
  },
  "orig_nbformat": 4,
  "vscode": {
   "interpreter": {
    "hash": "aee8b7b246df8f9039afb4144a1f6fd8d2ca17a180786b69acc140d282b71a49"
   }
  }
 },
 "nbformat": 4,
 "nbformat_minor": 2
}
